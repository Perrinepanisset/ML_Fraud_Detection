{
 "cells": [
  {
   "cell_type": "markdown",
   "metadata": {},
   "source": [
    "# PART II. MODEL BUILDING - DECISION TREE AND RANDOM FOREST"
   ]
  },
  {
   "cell_type": "markdown",
   "metadata": {},
   "source": [
    "### PREPROCESSING"
   ]
  },
  {
   "cell_type": "code",
   "execution_count": 18,
   "metadata": {},
   "outputs": [],
   "source": [
    "# Useful libraries\n",
    "\n",
    "import pandas as pd\n",
    "\n",
    "import seaborn as sns\n",
    "import matplotlib.pyplot as plt\n",
    "\n",
    "from sklearn.model_selection import train_test_split\n",
    "from sklearn.preprocessing import StandardScaler, OneHotEncoder\n",
    "from sklearn.pipeline import Pipeline\n",
    "from sklearn.compose import ColumnTransformer\n",
    "from sklearn.model_selection import GridSearchCV\n",
    "from sklearn.metrics import f1_score, confusion_matrix, precision_score, recall_score, classification_report\n",
    "from sklearn.tree import DecisionTreeClassifier\n",
    "from sklearn.ensemble import RandomForestClassifier\n",
    "from sklearn.model_selection import cross_val_score"
   ]
  },
  {
   "cell_type": "code",
   "execution_count": 2,
   "metadata": {},
   "outputs": [],
   "source": [
    "# Loading dataset\n",
    "\n",
    "dataset = pd.read_csv(\"Dataset_for_model_building.csv\")"
   ]
  },
  {
   "cell_type": "code",
   "execution_count": 3,
   "metadata": {},
   "outputs": [
    {
     "data": {
      "text/plain": [
       "0    0\n",
       "1    0\n",
       "2    1\n",
       "3    0\n",
       "4    0\n",
       "Name: class, dtype: int64"
      ]
     },
     "metadata": {},
     "output_type": "display_data"
    },
    {
     "name": "stdout",
     "output_type": "stream",
     "text": [
      "\n"
     ]
    },
    {
     "data": {
      "text/html": [
       "<div>\n",
       "<style scoped>\n",
       "    .dataframe tbody tr th:only-of-type {\n",
       "        vertical-align: middle;\n",
       "    }\n",
       "\n",
       "    .dataframe tbody tr th {\n",
       "        vertical-align: top;\n",
       "    }\n",
       "\n",
       "    .dataframe thead th {\n",
       "        text-align: right;\n",
       "    }\n",
       "</style>\n",
       "<table border=\"1\" class=\"dataframe\">\n",
       "  <thead>\n",
       "    <tr style=\"text-align: right;\">\n",
       "      <th></th>\n",
       "      <th>purchase_value</th>\n",
       "      <th>source</th>\n",
       "      <th>browser</th>\n",
       "      <th>sex</th>\n",
       "      <th>age</th>\n",
       "      <th>country</th>\n",
       "      <th>month</th>\n",
       "    </tr>\n",
       "  </thead>\n",
       "  <tbody>\n",
       "    <tr>\n",
       "      <th>0</th>\n",
       "      <td>34</td>\n",
       "      <td>SEO</td>\n",
       "      <td>Chrome</td>\n",
       "      <td>M</td>\n",
       "      <td>39</td>\n",
       "      <td>Japan</td>\n",
       "      <td>4</td>\n",
       "    </tr>\n",
       "    <tr>\n",
       "      <th>1</th>\n",
       "      <td>16</td>\n",
       "      <td>Ads</td>\n",
       "      <td>Chrome</td>\n",
       "      <td>F</td>\n",
       "      <td>53</td>\n",
       "      <td>United States</td>\n",
       "      <td>6</td>\n",
       "    </tr>\n",
       "    <tr>\n",
       "      <th>2</th>\n",
       "      <td>15</td>\n",
       "      <td>SEO</td>\n",
       "      <td>Opera</td>\n",
       "      <td>M</td>\n",
       "      <td>53</td>\n",
       "      <td>United States</td>\n",
       "      <td>1</td>\n",
       "    </tr>\n",
       "    <tr>\n",
       "      <th>3</th>\n",
       "      <td>44</td>\n",
       "      <td>SEO</td>\n",
       "      <td>Safari</td>\n",
       "      <td>M</td>\n",
       "      <td>41</td>\n",
       "      <td>Unknown country</td>\n",
       "      <td>5</td>\n",
       "    </tr>\n",
       "    <tr>\n",
       "      <th>4</th>\n",
       "      <td>39</td>\n",
       "      <td>Ads</td>\n",
       "      <td>Safari</td>\n",
       "      <td>M</td>\n",
       "      <td>45</td>\n",
       "      <td>United States</td>\n",
       "      <td>9</td>\n",
       "    </tr>\n",
       "  </tbody>\n",
       "</table>\n",
       "</div>"
      ],
      "text/plain": [
       "   purchase_value source browser sex  age          country  month\n",
       "0              34    SEO  Chrome   M   39            Japan      4\n",
       "1              16    Ads  Chrome   F   53    United States      6\n",
       "2              15    SEO   Opera   M   53    United States      1\n",
       "3              44    SEO  Safari   M   41  Unknown country      5\n",
       "4              39    Ads  Safari   M   45    United States      9"
      ]
     },
     "metadata": {},
     "output_type": "display_data"
    }
   ],
   "source": [
    "# Splitting the dataset in two tables : Y for the target 'class' and X for the explanatory features\n",
    "\n",
    "target_name = \"class\"\n",
    "Y = dataset.loc[:, target_name]\n",
    "X = dataset.loc[:, [c for c in dataset.columns if c != target_name]]\n",
    "\n",
    "display(Y.head())\n",
    "print()\n",
    "display(X.head())"
   ]
  },
  {
   "cell_type": "code",
   "execution_count": 4,
   "metadata": {},
   "outputs": [
    {
     "data": {
      "text/html": [
       "<div>\n",
       "<style scoped>\n",
       "    .dataframe tbody tr th:only-of-type {\n",
       "        vertical-align: middle;\n",
       "    }\n",
       "\n",
       "    .dataframe tbody tr th {\n",
       "        vertical-align: top;\n",
       "    }\n",
       "\n",
       "    .dataframe thead th {\n",
       "        text-align: right;\n",
       "    }\n",
       "</style>\n",
       "<table border=\"1\" class=\"dataframe\">\n",
       "  <thead>\n",
       "    <tr style=\"text-align: right;\">\n",
       "      <th></th>\n",
       "      <th>purchase_value</th>\n",
       "      <th>age</th>\n",
       "      <th>month</th>\n",
       "      <th>source_Ads</th>\n",
       "      <th>source_Direct</th>\n",
       "      <th>source_SEO</th>\n",
       "      <th>browser_Chrome</th>\n",
       "      <th>browser_FireFox</th>\n",
       "      <th>browser_IE</th>\n",
       "      <th>browser_Opera</th>\n",
       "      <th>...</th>\n",
       "      <th>country_Tunisia</th>\n",
       "      <th>country_Turkey</th>\n",
       "      <th>country_Ukraine</th>\n",
       "      <th>country_United Arab Emirates</th>\n",
       "      <th>country_United Kingdom</th>\n",
       "      <th>country_United States</th>\n",
       "      <th>country_Unknown country</th>\n",
       "      <th>country_Uruguay</th>\n",
       "      <th>country_Venezuela</th>\n",
       "      <th>country_Viet Nam</th>\n",
       "    </tr>\n",
       "  </thead>\n",
       "  <tbody>\n",
       "    <tr>\n",
       "      <th>0</th>\n",
       "      <td>34</td>\n",
       "      <td>39</td>\n",
       "      <td>4</td>\n",
       "      <td>0</td>\n",
       "      <td>0</td>\n",
       "      <td>1</td>\n",
       "      <td>1</td>\n",
       "      <td>0</td>\n",
       "      <td>0</td>\n",
       "      <td>0</td>\n",
       "      <td>...</td>\n",
       "      <td>0</td>\n",
       "      <td>0</td>\n",
       "      <td>0</td>\n",
       "      <td>0</td>\n",
       "      <td>0</td>\n",
       "      <td>0</td>\n",
       "      <td>0</td>\n",
       "      <td>0</td>\n",
       "      <td>0</td>\n",
       "      <td>0</td>\n",
       "    </tr>\n",
       "    <tr>\n",
       "      <th>1</th>\n",
       "      <td>16</td>\n",
       "      <td>53</td>\n",
       "      <td>6</td>\n",
       "      <td>1</td>\n",
       "      <td>0</td>\n",
       "      <td>0</td>\n",
       "      <td>1</td>\n",
       "      <td>0</td>\n",
       "      <td>0</td>\n",
       "      <td>0</td>\n",
       "      <td>...</td>\n",
       "      <td>0</td>\n",
       "      <td>0</td>\n",
       "      <td>0</td>\n",
       "      <td>0</td>\n",
       "      <td>0</td>\n",
       "      <td>1</td>\n",
       "      <td>0</td>\n",
       "      <td>0</td>\n",
       "      <td>0</td>\n",
       "      <td>0</td>\n",
       "    </tr>\n",
       "    <tr>\n",
       "      <th>2</th>\n",
       "      <td>15</td>\n",
       "      <td>53</td>\n",
       "      <td>1</td>\n",
       "      <td>0</td>\n",
       "      <td>0</td>\n",
       "      <td>1</td>\n",
       "      <td>0</td>\n",
       "      <td>0</td>\n",
       "      <td>0</td>\n",
       "      <td>1</td>\n",
       "      <td>...</td>\n",
       "      <td>0</td>\n",
       "      <td>0</td>\n",
       "      <td>0</td>\n",
       "      <td>0</td>\n",
       "      <td>0</td>\n",
       "      <td>1</td>\n",
       "      <td>0</td>\n",
       "      <td>0</td>\n",
       "      <td>0</td>\n",
       "      <td>0</td>\n",
       "    </tr>\n",
       "    <tr>\n",
       "      <th>3</th>\n",
       "      <td>44</td>\n",
       "      <td>41</td>\n",
       "      <td>5</td>\n",
       "      <td>0</td>\n",
       "      <td>0</td>\n",
       "      <td>1</td>\n",
       "      <td>0</td>\n",
       "      <td>0</td>\n",
       "      <td>0</td>\n",
       "      <td>0</td>\n",
       "      <td>...</td>\n",
       "      <td>0</td>\n",
       "      <td>0</td>\n",
       "      <td>0</td>\n",
       "      <td>0</td>\n",
       "      <td>0</td>\n",
       "      <td>0</td>\n",
       "      <td>1</td>\n",
       "      <td>0</td>\n",
       "      <td>0</td>\n",
       "      <td>0</td>\n",
       "    </tr>\n",
       "    <tr>\n",
       "      <th>4</th>\n",
       "      <td>39</td>\n",
       "      <td>45</td>\n",
       "      <td>9</td>\n",
       "      <td>1</td>\n",
       "      <td>0</td>\n",
       "      <td>0</td>\n",
       "      <td>0</td>\n",
       "      <td>0</td>\n",
       "      <td>0</td>\n",
       "      <td>0</td>\n",
       "      <td>...</td>\n",
       "      <td>0</td>\n",
       "      <td>0</td>\n",
       "      <td>0</td>\n",
       "      <td>0</td>\n",
       "      <td>0</td>\n",
       "      <td>1</td>\n",
       "      <td>0</td>\n",
       "      <td>0</td>\n",
       "      <td>0</td>\n",
       "      <td>0</td>\n",
       "    </tr>\n",
       "  </tbody>\n",
       "</table>\n",
       "<p>5 rows × 91 columns</p>\n",
       "</div>"
      ],
      "text/plain": [
       "   purchase_value  age  month  source_Ads  source_Direct  source_SEO  \\\n",
       "0              34   39      4           0              0           1   \n",
       "1              16   53      6           1              0           0   \n",
       "2              15   53      1           0              0           1   \n",
       "3              44   41      5           0              0           1   \n",
       "4              39   45      9           1              0           0   \n",
       "\n",
       "   browser_Chrome  browser_FireFox  browser_IE  browser_Opera  ...  \\\n",
       "0               1                0           0              0  ...   \n",
       "1               1                0           0              0  ...   \n",
       "2               0                0           0              1  ...   \n",
       "3               0                0           0              0  ...   \n",
       "4               0                0           0              0  ...   \n",
       "\n",
       "   country_Tunisia  country_Turkey  country_Ukraine  \\\n",
       "0                0               0                0   \n",
       "1                0               0                0   \n",
       "2                0               0                0   \n",
       "3                0               0                0   \n",
       "4                0               0                0   \n",
       "\n",
       "   country_United Arab Emirates  country_United Kingdom  \\\n",
       "0                             0                       0   \n",
       "1                             0                       0   \n",
       "2                             0                       0   \n",
       "3                             0                       0   \n",
       "4                             0                       0   \n",
       "\n",
       "   country_United States  country_Unknown country  country_Uruguay  \\\n",
       "0                      0                        0                0   \n",
       "1                      1                        0                0   \n",
       "2                      1                        0                0   \n",
       "3                      0                        1                0   \n",
       "4                      1                        0                0   \n",
       "\n",
       "   country_Venezuela  country_Viet Nam  \n",
       "0                  0                 0  \n",
       "1                  0                 0  \n",
       "2                  0                 0  \n",
       "3                  0                 0  \n",
       "4                  0                 0  \n",
       "\n",
       "[5 rows x 91 columns]"
      ]
     },
     "execution_count": 4,
     "metadata": {},
     "output_type": "execute_result"
    }
   ],
   "source": [
    "# One Hot Encoding for categorical variables of X\n",
    "\n",
    "X = pd.get_dummies(X)\n",
    "X.head()"
   ]
  },
  {
   "cell_type": "code",
   "execution_count": 5,
   "metadata": {},
   "outputs": [],
   "source": [
    "# Splitting the dataset in Train and Test sets\n",
    "\n",
    "X_train, X_test, Y_train, Y_test = train_test_split(X, Y, test_size = 0.2, random_state = 42, stratify = Y)"
   ]
  },
  {
   "cell_type": "markdown",
   "metadata": {},
   "source": [
    "### DECISION TREE"
   ]
  },
  {
   "cell_type": "code",
   "execution_count": 6,
   "metadata": {},
   "outputs": [
    {
     "data": {
      "text/plain": [
       "DecisionTreeClassifier(class_weight='balanced')"
      ]
     },
     "execution_count": 6,
     "metadata": {},
     "output_type": "execute_result"
    }
   ],
   "source": [
    "dt_clf = DecisionTreeClassifier(class_weight = 'balanced')\n",
    "dt_clf.fit(X_train, Y_train)"
   ]
  },
  {
   "cell_type": "code",
   "execution_count": 7,
   "metadata": {},
   "outputs": [],
   "source": [
    "# Predicting\n",
    "\n",
    "Y_train_pred = dt_clf.predict(X_train)\n",
    "Y_test_pred = dt_clf.predict(X_test)"
   ]
  },
  {
   "cell_type": "code",
   "execution_count": 8,
   "metadata": {},
   "outputs": [
    {
     "name": "stdout",
     "output_type": "stream",
     "text": [
      "f1 score on train set is :  0.9823383193057433\n",
      "f1 score on test set is :  0.53497258680844\n"
     ]
    }
   ],
   "source": [
    "# Computing f1_score\n",
    "\n",
    "print(\"f1 score on train set is : \", f1_score(Y_train, Y_train_pred))\n",
    "print(\"f1 score on test set is : \", f1_score(Y_test, Y_test_pred))"
   ]
  },
  {
   "cell_type": "code",
   "execution_count": 9,
   "metadata": {},
   "outputs": [
    {
     "name": "stdout",
     "output_type": "stream",
     "text": [
      "              precision    recall  f1-score   support\n",
      "\n",
      "           0       0.95      0.94      0.95     27171\n",
      "           1       0.50      0.57      0.53      2816\n",
      "\n",
      "    accuracy                           0.91     29987\n",
      "   macro avg       0.73      0.76      0.74     29987\n",
      "weighted avg       0.91      0.91      0.91     29987\n",
      "\n"
     ]
    }
   ],
   "source": [
    "# Computing classification scores\n",
    "\n",
    "print(classification_report(Y_test, Y_test_pred))"
   ]
  },
  {
   "cell_type": "code",
   "execution_count": 10,
   "metadata": {},
   "outputs": [
    {
     "name": "stdout",
     "output_type": "stream",
     "text": [
      "confusion matric for Train set\n",
      "[[108278    405]\n",
      " [     0  11263]]\n",
      "confusion matric for Test set\n",
      "[[25578  1593]\n",
      " [ 1206  1610]]\n"
     ]
    }
   ],
   "source": [
    "# Visualizing a confusion matrix\n",
    "\n",
    "print(\"confusion matric for Train set\")\n",
    "print(confusion_matrix(Y_train, Y_train_pred) )\n",
    "\n",
    "print(\"confusion matric for Test set\")\n",
    "print(confusion_matrix(Y_test, Y_test_pred))"
   ]
  },
  {
   "cell_type": "markdown",
   "metadata": {},
   "source": [
    "### CONCLUSION"
   ]
  },
  {
   "cell_type": "markdown",
   "metadata": {},
   "source": [
    "The model is more satisfying than a Logistic Regression Model but it overfits a lot"
   ]
  },
  {
   "cell_type": "markdown",
   "metadata": {},
   "source": [
    "### RANDOM FOREST"
   ]
  },
  {
   "cell_type": "code",
   "execution_count": 11,
   "metadata": {},
   "outputs": [
    {
     "name": "stdout",
     "output_type": "stream",
     "text": [
      "Hyperparameters that give the best score :  {'max_depth': 6, 'n_estimators': 180}\n",
      "Best score :  0.9418404756897487\n"
     ]
    }
   ],
   "source": [
    "params = { \n",
    "         'max_depth' : [4, 6, 8],\n",
    "        'n_estimators' : [100, 120, 140, 160, 180] }\n",
    "\n",
    "grid_rf = GridSearchCV(RandomForestClassifier(class_weight = 'balanced'), param_grid = params, cv = 5)\n",
    "grid_rf.fit(X_train, Y_train)\n",
    "\n",
    "print(\"Hyperparameters that give the best score : \", grid_rf.best_params_)\n",
    "print(\"Best score : \", grid_rf.best_score_)"
   ]
  },
  {
   "cell_type": "code",
   "execution_count": 12,
   "metadata": {},
   "outputs": [],
   "source": [
    "Y_train_pred_rf = grid_rf.predict(X_train)\n",
    "Y_test_pred_rf = grid_rf.predict(X_test)"
   ]
  },
  {
   "cell_type": "code",
   "execution_count": 13,
   "metadata": {},
   "outputs": [
    {
     "name": "stdout",
     "output_type": "stream",
     "text": [
      "f1 score on train set is :  0.6380991907034654\n",
      "f1 score on test set is :  0.6382716049382716\n"
     ]
    }
   ],
   "source": [
    "# Computing f1_score\n",
    "\n",
    "print(\"f1 score on train set is : \", f1_score(Y_train, Y_train_pred_rf))\n",
    "print(\"f1 score on test set is : \", f1_score(Y_test, Y_test_pred_rf))"
   ]
  },
  {
   "cell_type": "code",
   "execution_count": 14,
   "metadata": {},
   "outputs": [
    {
     "name": "stdout",
     "output_type": "stream",
     "text": [
      "              precision    recall  f1-score   support\n",
      "\n",
      "           0       0.95      0.98      0.97     27171\n",
      "           1       0.76      0.55      0.64      2816\n",
      "\n",
      "    accuracy                           0.94     29987\n",
      "   macro avg       0.86      0.77      0.80     29987\n",
      "weighted avg       0.94      0.94      0.94     29987\n",
      "\n"
     ]
    }
   ],
   "source": [
    "# Computing classification scores\n",
    "\n",
    "print(classification_report(Y_test, Y_test_pred_rf))"
   ]
  },
  {
   "cell_type": "code",
   "execution_count": 15,
   "metadata": {},
   "outputs": [
    {
     "name": "stdout",
     "output_type": "stream",
     "text": [
      "precision score on train set is :  0.7588062622309197\n",
      "recall score on test set is :  0.55078125\n"
     ]
    }
   ],
   "source": [
    "# Computing precision and recall on test set\n",
    "print(\"precision score on train set is : \", precision_score(Y_test, Y_test_pred_rf))\n",
    "print(\"recall score on test set is : \", recall_score(Y_test, Y_test_pred_rf))"
   ]
  },
  {
   "cell_type": "code",
   "execution_count": 16,
   "metadata": {},
   "outputs": [
    {
     "name": "stdout",
     "output_type": "stream",
     "text": [
      "confusion matric for Train set\n",
      "[[106820   1863]\n",
      " [  5113   6150]]\n",
      "confusion matric for Test set\n",
      "[[26678   493]\n",
      " [ 1265  1551]]\n"
     ]
    }
   ],
   "source": [
    "# Visualizing a confusion matrix\n",
    "\n",
    "print(\"confusion matric for Train set\")\n",
    "print(confusion_matrix(Y_train, Y_train_pred_rf) )\n",
    "\n",
    "print(\"confusion matric for Test set\")\n",
    "print(confusion_matrix(Y_test, Y_test_pred_rf))"
   ]
  },
  {
   "cell_type": "markdown",
   "metadata": {},
   "source": [
    "### SCORE EXPLANATION"
   ]
  },
  {
   "cell_type": "markdown",
   "metadata": {},
   "source": [
    "Here we want to detect as fraud as possible (positive result) while minimizing the false positive results (false alerte).\n",
    "\n",
    "We have a recall of 55% which means that our model manages to detect 55% of the frauds and a precision of 76% which means that 76% of transactions detected as fraud by the model are indeed frauds."
   ]
  },
  {
   "cell_type": "markdown",
   "metadata": {},
   "source": [
    "### CROSS VALIDATION\n",
    "We want to see how the score changes depending on the train test split"
   ]
  },
  {
   "cell_type": "code",
   "execution_count": null,
   "metadata": {},
   "outputs": [],
   "source": [
    "scores = cross_val_score(grid_rf.best_estimator_, X_train, Y_train, cv=5)"
   ]
  },
  {
   "cell_type": "code",
   "execution_count": null,
   "metadata": {},
   "outputs": [],
   "source": [
    "print('Scores mean:', scores.mean())\n",
    "print('Scores standard deviation:', scores.std())"
   ]
  },
  {
   "cell_type": "markdown",
   "metadata": {},
   "source": [
    "**CONCLUSION OF CROSS VALIDATION** : Scores are not significantly different with different train test split"
   ]
  },
  {
   "cell_type": "markdown",
   "metadata": {},
   "source": [
    "### FEATURE IMPORTANCE"
   ]
  },
  {
   "cell_type": "code",
   "execution_count": 21,
   "metadata": {},
   "outputs": [
    {
     "data": {
      "text/plain": [
       "array([5.05096822e-02, 4.13622835e-02, 5.66802282e-01, 7.38205713e-03,\n",
       "       3.70978439e-02, 1.37008809e-02, 2.12293860e-02, 7.99599534e-03,\n",
       "       1.32803714e-02, 2.38298066e-03, 4.53850144e-03, 1.33856222e-02,\n",
       "       8.43367743e-03, 4.09937745e-05, 6.42045042e-04, 1.87167500e-04,\n",
       "       1.70145151e-03, 1.91300322e-04, 6.65199444e-04, 2.17016185e-03,\n",
       "       1.00214466e-03, 2.87105437e-03, 7.35358391e-03, 4.09389886e-04,\n",
       "       3.26239981e-03, 5.02473566e-04, 4.31128957e-04, 2.58880625e-05,\n",
       "       2.26922792e-04, 1.22859528e-02, 3.25895872e-06, 3.76403063e-03,\n",
       "       1.18828142e-03, 1.97663427e-04, 1.01346936e-03, 2.92831866e-03,\n",
       "       1.57803676e-02, 2.57289851e-03, 1.46108716e-03, 2.59935809e-04,\n",
       "       1.14381984e-03, 1.08984415e-03, 3.80308590e-04, 1.75136803e-02,\n",
       "       1.13995290e-03, 1.12635396e-04, 3.79268814e-04, 6.22416918e-07,\n",
       "       8.97692919e-06, 1.17658045e-04, 2.57378331e-03, 1.14611430e-04,\n",
       "       6.72303863e-04, 1.88371017e-02, 5.77508379e-04, 6.37302293e-03,\n",
       "       1.29060848e-03, 1.60285703e-03, 2.22590461e-02, 6.17458519e-04,\n",
       "       3.70346093e-04, 1.11742464e-03, 1.71015313e-04, 5.61490442e-03,\n",
       "       1.27854360e-03, 3.75094858e-03, 1.01516853e-05, 6.54803748e-03,\n",
       "       8.35952130e-04, 1.07330543e-02, 7.20071504e-04, 1.64716978e-06,\n",
       "       1.33975975e-05, 8.13205605e-04, 2.32530382e-05, 2.95841387e-03,\n",
       "       3.73234337e-03, 1.06170572e-03, 1.84223881e-04, 9.32609657e-05,\n",
       "       4.26244840e-04, 1.26806949e-02, 3.62718536e-04, 1.10403319e-03,\n",
       "       1.23191028e-04, 8.80786157e-04, 8.28301841e-04, 1.26321518e-02,\n",
       "       1.10237293e-06, 1.68736766e-03, 1.19630350e-03])"
      ]
     },
     "execution_count": 21,
     "metadata": {},
     "output_type": "execute_result"
    }
   ],
   "source": [
    "# Determining feature importance\n",
    "\n",
    "clf_rf = RandomForestClassifier(max_depth= 4, n_estimators = 180, class_weight = 'balanced')\n",
    "clf_rf = clf_rf.fit(X_train, Y_train)\n",
    "\n",
    "clf_rf.feature_importances_"
   ]
  },
  {
   "cell_type": "code",
   "execution_count": 32,
   "metadata": {},
   "outputs": [
    {
     "data": {
      "text/html": [
       "<div>\n",
       "<style scoped>\n",
       "    .dataframe tbody tr th:only-of-type {\n",
       "        vertical-align: middle;\n",
       "    }\n",
       "\n",
       "    .dataframe tbody tr th {\n",
       "        vertical-align: top;\n",
       "    }\n",
       "\n",
       "    .dataframe thead th {\n",
       "        text-align: right;\n",
       "    }\n",
       "</style>\n",
       "<table border=\"1\" class=\"dataframe\">\n",
       "  <thead>\n",
       "    <tr style=\"text-align: right;\">\n",
       "      <th></th>\n",
       "      <th>features</th>\n",
       "      <th>coefficient</th>\n",
       "    </tr>\n",
       "  </thead>\n",
       "  <tbody>\n",
       "    <tr>\n",
       "      <th>0</th>\n",
       "      <td>month</td>\n",
       "      <td>5.668023e-01</td>\n",
       "    </tr>\n",
       "    <tr>\n",
       "      <th>1</th>\n",
       "      <td>purchase_value</td>\n",
       "      <td>5.050968e-02</td>\n",
       "    </tr>\n",
       "    <tr>\n",
       "      <th>2</th>\n",
       "      <td>age</td>\n",
       "      <td>4.136228e-02</td>\n",
       "    </tr>\n",
       "    <tr>\n",
       "      <th>3</th>\n",
       "      <td>source_Direct</td>\n",
       "      <td>3.709784e-02</td>\n",
       "    </tr>\n",
       "    <tr>\n",
       "      <th>4</th>\n",
       "      <td>country_New Zealand</td>\n",
       "      <td>2.225905e-02</td>\n",
       "    </tr>\n",
       "    <tr>\n",
       "      <th>...</th>\n",
       "      <td>...</td>\n",
       "      <td>...</td>\n",
       "    </tr>\n",
       "    <tr>\n",
       "      <th>86</th>\n",
       "      <td>country_Kenya</td>\n",
       "      <td>8.976929e-06</td>\n",
       "    </tr>\n",
       "    <tr>\n",
       "      <th>87</th>\n",
       "      <td>country_Dominican Republic</td>\n",
       "      <td>3.258959e-06</td>\n",
       "    </tr>\n",
       "    <tr>\n",
       "      <th>88</th>\n",
       "      <td>country_Seychelles</td>\n",
       "      <td>1.647170e-06</td>\n",
       "    </tr>\n",
       "    <tr>\n",
       "      <th>89</th>\n",
       "      <td>country_Uruguay</td>\n",
       "      <td>1.102373e-06</td>\n",
       "    </tr>\n",
       "    <tr>\n",
       "      <th>90</th>\n",
       "      <td>country_Kazakhstan</td>\n",
       "      <td>6.224169e-07</td>\n",
       "    </tr>\n",
       "  </tbody>\n",
       "</table>\n",
       "<p>91 rows × 2 columns</p>\n",
       "</div>"
      ],
      "text/plain": [
       "                      features   coefficient\n",
       "0                        month  5.668023e-01\n",
       "1               purchase_value  5.050968e-02\n",
       "2                          age  4.136228e-02\n",
       "3                source_Direct  3.709784e-02\n",
       "4          country_New Zealand  2.225905e-02\n",
       "..                         ...           ...\n",
       "86               country_Kenya  8.976929e-06\n",
       "87  country_Dominican Republic  3.258959e-06\n",
       "88          country_Seychelles  1.647170e-06\n",
       "89             country_Uruguay  1.102373e-06\n",
       "90          country_Kazakhstan  6.224169e-07\n",
       "\n",
       "[91 rows x 2 columns]"
      ]
     },
     "execution_count": 32,
     "metadata": {},
     "output_type": "execute_result"
    }
   ],
   "source": [
    "# Putting feature importance in a Dataframe\n",
    "\n",
    "df_coef = pd.DataFrame(data = clf_rf.feature_importances_, index = X.columns, columns = ['coefficient'])\n",
    "df_coef = df_coef.apply(lambda x :abs(x)).sort_values(by = 'coefficient', ascending = False)\n",
    "df_coef = df_coef.reset_index().rename({'index':'features'}, axis = 1)\n",
    "df_coef"
   ]
  },
  {
   "cell_type": "code",
   "execution_count": 34,
   "metadata": {},
   "outputs": [
    {
     "data": {
      "text/plain": [
       "<seaborn.axisgrid.FacetGrid at 0x7f76d2fdf820>"
      ]
     },
     "execution_count": 34,
     "metadata": {},
     "output_type": "execute_result"
    },
    {
     "data": {
      "image/png": "[encoded data removed]",
      "text/plain": [
       "<Figure size 360x360 with 1 Axes>"
      ]
     },
     "metadata": {
      "needs_background": "light"
     },
     "output_type": "display_data"
    }
   ],
   "source": [
    "# Plotting feature importance\n",
    "\n",
    "sns.catplot(x = 'coefficient', y = \"features\", data = df_coef.loc[:10,:], kind = 'bar')"
   ]
  },
  {
   "cell_type": "markdown",
   "metadata": {},
   "source": [
    "#### FEATURE IMPORTANCE EXPLANATION\n",
    "It seems that month, purchase and age are the most determining feature when predicting fraud."
   ]
  }
 ],
 "metadata": {
  "kernelspec": {
   "display_name": "Python 3",
   "language": "python",
   "name": "python3"
  },
  "language_info": {
   "codemirror_mode": {
    "name": "ipython",
    "version": 3
   },
   "file_extension": ".py",
   "mimetype": "text/x-python",
   "name": "python",
   "nbconvert_exporter": "python",
   "pygments_lexer": "ipython3",
   "version": "3.8.6"
  }
 },
 "nbformat": 4,
 "nbformat_minor": 4
}
