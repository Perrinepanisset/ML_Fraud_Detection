{
 "cells": [
  {
   "cell_type": "markdown",
   "metadata": {},
   "source": [
    "# PART II. MODEL BUILDING - LOGISTIC REGRESSION"
   ]
  },
  {
   "cell_type": "markdown",
   "metadata": {},
   "source": [
    "### PREPROCESSING"
   ]
  },
  {
   "cell_type": "code",
   "execution_count": 27,
   "metadata": {},
   "outputs": [],
   "source": [
    "# Useful libraries\n",
    "\n",
    "import pandas as pd\n",
    "\n",
    "import seaborn as sns\n",
    "import matplotlib.pyplot as plt\n",
    "\n",
    "from sklearn.model_selection import train_test_split\n",
    "from sklearn.preprocessing import StandardScaler, OneHotEncoder\n",
    "from sklearn.pipeline import Pipeline\n",
    "from sklearn.compose import ColumnTransformer\n",
    "from sklearn.linear_model import LogisticRegression\n",
    "from sklearn.model_selection import GridSearchCV\n",
    "from sklearn.metrics import f1_score, confusion_matrix, accuracy_score, classification_report\n",
    "from sklearn.tree import DecisionTreeClassifier"
   ]
  },
  {
   "cell_type": "code",
   "execution_count": 28,
   "metadata": {},
   "outputs": [],
   "source": [
    "# Loading dataset\n",
    "\n",
    "dataset = pd.read_csv(\"Dataset_for_model_building.csv\")"
   ]
  },
  {
   "cell_type": "code",
   "execution_count": 29,
   "metadata": {},
   "outputs": [
    {
     "data": {
      "text/plain": [
       "0    0\n",
       "1    0\n",
       "2    1\n",
       "3    0\n",
       "4    0\n",
       "Name: class, dtype: int64"
      ]
     },
     "metadata": {},
     "output_type": "display_data"
    },
    {
     "name": "stdout",
     "output_type": "stream",
     "text": [
      "\n"
     ]
    },
    {
     "data": {
      "text/html": [
       "<div>\n",
       "<style scoped>\n",
       "    .dataframe tbody tr th:only-of-type {\n",
       "        vertical-align: middle;\n",
       "    }\n",
       "\n",
       "    .dataframe tbody tr th {\n",
       "        vertical-align: top;\n",
       "    }\n",
       "\n",
       "    .dataframe thead th {\n",
       "        text-align: right;\n",
       "    }\n",
       "</style>\n",
       "<table border=\"1\" class=\"dataframe\">\n",
       "  <thead>\n",
       "    <tr style=\"text-align: right;\">\n",
       "      <th></th>\n",
       "      <th>purchase_value</th>\n",
       "      <th>source</th>\n",
       "      <th>browser</th>\n",
       "      <th>sex</th>\n",
       "      <th>age</th>\n",
       "      <th>country</th>\n",
       "      <th>month</th>\n",
       "    </tr>\n",
       "  </thead>\n",
       "  <tbody>\n",
       "    <tr>\n",
       "      <th>0</th>\n",
       "      <td>34</td>\n",
       "      <td>SEO</td>\n",
       "      <td>Chrome</td>\n",
       "      <td>M</td>\n",
       "      <td>39</td>\n",
       "      <td>Japan</td>\n",
       "      <td>4</td>\n",
       "    </tr>\n",
       "    <tr>\n",
       "      <th>1</th>\n",
       "      <td>16</td>\n",
       "      <td>Ads</td>\n",
       "      <td>Chrome</td>\n",
       "      <td>F</td>\n",
       "      <td>53</td>\n",
       "      <td>United States</td>\n",
       "      <td>6</td>\n",
       "    </tr>\n",
       "    <tr>\n",
       "      <th>2</th>\n",
       "      <td>15</td>\n",
       "      <td>SEO</td>\n",
       "      <td>Opera</td>\n",
       "      <td>M</td>\n",
       "      <td>53</td>\n",
       "      <td>United States</td>\n",
       "      <td>1</td>\n",
       "    </tr>\n",
       "    <tr>\n",
       "      <th>3</th>\n",
       "      <td>44</td>\n",
       "      <td>SEO</td>\n",
       "      <td>Safari</td>\n",
       "      <td>M</td>\n",
       "      <td>41</td>\n",
       "      <td>Unknown country</td>\n",
       "      <td>5</td>\n",
       "    </tr>\n",
       "    <tr>\n",
       "      <th>4</th>\n",
       "      <td>39</td>\n",
       "      <td>Ads</td>\n",
       "      <td>Safari</td>\n",
       "      <td>M</td>\n",
       "      <td>45</td>\n",
       "      <td>United States</td>\n",
       "      <td>9</td>\n",
       "    </tr>\n",
       "  </tbody>\n",
       "</table>\n",
       "</div>"
      ],
      "text/plain": [
       "   purchase_value source browser sex  age          country  month\n",
       "0              34    SEO  Chrome   M   39            Japan      4\n",
       "1              16    Ads  Chrome   F   53    United States      6\n",
       "2              15    SEO   Opera   M   53    United States      1\n",
       "3              44    SEO  Safari   M   41  Unknown country      5\n",
       "4              39    Ads  Safari   M   45    United States      9"
      ]
     },
     "metadata": {},
     "output_type": "display_data"
    }
   ],
   "source": [
    "# Splitting the dataset in two tables : Y for the target 'class' and X for the explanatory features\n",
    "\n",
    "target_name = \"class\"\n",
    "Y = dataset.loc[:, target_name]\n",
    "X = dataset.loc[:, [c for c in dataset.columns if c != target_name]]\n",
    "\n",
    "display(Y.head())\n",
    "print()\n",
    "display(X.head())"
   ]
  },
  {
   "cell_type": "code",
   "execution_count": 30,
   "metadata": {},
   "outputs": [],
   "source": [
    "# Transforming X and Y in numpy arrays\n",
    "X = X.values\n",
    "Y = Y.tolist()"
   ]
  },
  {
   "cell_type": "code",
   "execution_count": 31,
   "metadata": {},
   "outputs": [],
   "source": [
    "# Splitting the dataset in Train and Test sets\n",
    "\n",
    "X_train, X_test, Y_train, Y_test = train_test_split(X, Y, test_size = 0.2, random_state = 42, stratify = Y)"
   ]
  },
  {
   "cell_type": "code",
   "execution_count": 32,
   "metadata": {},
   "outputs": [],
   "source": [
    "# Preprocessing\n",
    "\n",
    "# Creating pipeline for numeric features\n",
    "numeric_features = [0, 4, 6]\n",
    "numeric_transformer = Pipeline(steps = [\n",
    "    ('scaler', StandardScaler())\n",
    "])\n",
    "\n",
    "# Creating pipeline for categorical features\n",
    "categorical_features = [1, 2, 3, 5]\n",
    "categorical_transformer = Pipeline(steps = [\n",
    "    ('encoder', OneHotEncoder(drop = 'first'))\n",
    "])"
   ]
  },
  {
   "cell_type": "code",
   "execution_count": 33,
   "metadata": {},
   "outputs": [
    {
     "name": "stdout",
     "output_type": "stream",
     "text": [
      "Performing on train set : \n",
      "[[29 'SEO' 'Safari' ... 34 'Korea Republic of' 7]\n",
      " [11 'SEO' 'IE' ... 29 'Japan' 8]\n",
      " [37 'Ads' 'Chrome' ... 22 'United States' 7]\n",
      " ...\n",
      " [24 'Ads' 'Chrome' ... 22 'United States' 5]\n",
      " [33 'SEO' 'Chrome' ... 36 'South Africa' 4]\n",
      " [34 'Ads' 'Safari' ... 35 'United States' 2]]\n",
      "Done\n",
      "  (0, 0)\t-0.4340242293794418\n",
      "  (0, 1)\t0.10106298791367568\n",
      "  (0, 2)\t0.37277377489039915\n",
      "  (0, 4)\t1.0\n",
      "  (0, 8)\t1.0\n",
      "  (0, 9)\t1.0\n",
      "  (0, 45)\t1.0\n",
      "  (1, 0)\t-1.4173142402490027\n",
      "  (1, 1)\t-0.479386214743561\n",
      "  (1, 2)\t0.7486594036934039\n",
      "  (1, 4)\t1.0\n",
      "  (1, 6)\t1.0\n",
      "  (1, 42)\t1.0\n",
      "  (2, 0)\t0.0029935532292519064\n",
      "  (2, 1)\t-1.2920150984636924\n",
      "  (2, 2)\t0.37277377489039915\n",
      "  (2, 82)\t1.0\n",
      "  (3, 0)\t-1.1988053489446557\n",
      "  (3, 1)\t1.494141074291044\n",
      "  (3, 2)\t1.1245450324964088\n",
      "  (3, 4)\t1.0\n",
      "  (3, 9)\t1.0\n",
      "  (3, 82)\t1.0\n",
      "  (4, 0)\t-0.21551533807509493\n",
      "  (4, 1)\t-0.131116693149219\n",
      "  :\t:\n",
      "  (119941, 1)\t-1.1759252579322452\n",
      "  (119941, 2)\t-0.37899748271561046\n",
      "  (119941, 6)\t1.0\n",
      "  (119941, 9)\t1.0\n",
      "  (119941, 82)\t1.0\n",
      "  (119942, 0)\t0.8224018956205525\n",
      "  (119942, 1)\t-0.8276557363379031\n",
      "  (119942, 2)\t-0.003111853912605672\n",
      "  (119942, 82)\t1.0\n",
      "  (119943, 0)\t-0.7071603435098753\n",
      "  (119943, 1)\t-1.2920150984636924\n",
      "  (119943, 2)\t-0.37899748271561046\n",
      "  (119943, 82)\t1.0\n",
      "  (119944, 0)\t-0.21551533807509493\n",
      "  (119944, 1)\t0.3332426689765704\n",
      "  (119944, 2)\t-0.7548831115186153\n",
      "  (119944, 4)\t1.0\n",
      "  (119944, 9)\t1.0\n",
      "  (119944, 71)\t1.0\n",
      "  (119945, 0)\t-0.16088811524900823\n",
      "  (119945, 1)\t0.21715282844512304\n",
      "  (119945, 2)\t-1.5066543691246248\n",
      "  (119945, 8)\t1.0\n",
      "  (119945, 9)\t1.0\n",
      "  (119945, 82)\t1.0\n",
      "Performing on test set : \n",
      "[[47 'SEO' 'FireFox' ... 27 'Norway' 1]\n",
      " [35 'Ads' 'Safari' ... 63 'Unknown country' 5]\n",
      " [65 'Ads' 'Chrome' ... 42 'Portugal' 3]\n",
      " ...\n",
      " [34 'Ads' 'Chrome' ... 37 'Unknown country' 7]\n",
      " [37 'Ads' 'IE' ... 28 'United States' 4]\n",
      " [22 'Ads' 'IE' ... 30 'United States' 5]]\n",
      "Done\n",
      "  (0, 0)\t0.5492657814901191\n",
      "  (0, 1)\t-0.7115658958064557\n",
      "  (0, 2)\t-1.8825399979276296\n",
      "  (0, 4)\t1.0\n",
      "  (0, 5)\t1.0\n",
      "  (0, 9)\t1.0\n",
      "  (0, 56)\t1.0\n",
      "  (1, 0)\t-0.10626089242292151\n",
      "  (1, 1)\t3.467668363325649\n",
      "  (1, 2)\t-0.37899748271561046\n",
      "  (1, 8)\t1.0\n",
      "  (1, 9)\t1.0\n",
      "  (1, 83)\t1.0\n",
      "  (2, 0)\t1.5325557923596798\n",
      "  (2, 1)\t1.0297817121652544\n",
      "  (2, 2)\t-1.13076874032162\n",
      "  (2, 62)\t1.0\n",
      "  (3, 0)\t1.8056919064901134\n",
      "  (3, 1)\t-0.3632963742121137\n",
      "  (3, 2)\t0.37277377489039915\n",
      "  (3, 4)\t1.0\n",
      "  (3, 6)\t1.0\n",
      "  (3, 38)\t1.0\n",
      "  (4, 0)\t-1.144178126118569\n",
      "  (4, 1)\t-0.8276557363379031\n",
      "  :\t:\n",
      "  (29982, 9)\t1.0\n",
      "  (29982, 82)\t1.0\n",
      "  (29983, 0)\t-1.308059794596829\n",
      "  (29983, 1)\t-0.5954760552750084\n",
      "  (29983, 2)\t0.7486594036934039\n",
      "  (29983, 4)\t1.0\n",
      "  (29983, 9)\t1.0\n",
      "  (29983, 82)\t1.0\n",
      "  (29984, 0)\t-0.16088811524900823\n",
      "  (29984, 1)\t0.44933250950801773\n",
      "  (29984, 2)\t0.37277377489039915\n",
      "  (29984, 9)\t1.0\n",
      "  (29984, 83)\t1.0\n",
      "  (29985, 0)\t0.0029935532292519064\n",
      "  (29985, 1)\t-0.5954760552750084\n",
      "  (29985, 2)\t-0.7548831115186153\n",
      "  (29985, 6)\t1.0\n",
      "  (29985, 9)\t1.0\n",
      "  (29985, 82)\t1.0\n",
      "  (29986, 0)\t-0.8164147891620488\n",
      "  (29986, 1)\t-0.3632963742121137\n",
      "  (29986, 2)\t-0.37899748271561046\n",
      "  (29986, 6)\t1.0\n",
      "  (29986, 9)\t1.0\n",
      "  (29986, 82)\t1.0\n"
     ]
    }
   ],
   "source": [
    "# Transform\n",
    "\n",
    "preprocessor = ColumnTransformer(\n",
    "    transformers = [\n",
    "        ('num', numeric_transformer, numeric_features),\n",
    "        ('cat', categorical_transformer, categorical_features)\n",
    "    ])\n",
    "\n",
    "print(\"Performing on train set : \")\n",
    "print(X_train)\n",
    "X_train = preprocessor.fit_transform(X_train)\n",
    "print(\"Done\")\n",
    "print(X_train)\n",
    "\n",
    "print(\"Performing on test set : \")\n",
    "print(X_test)\n",
    "X_test = preprocessor.transform(X_test)\n",
    "print(\"Done\")\n",
    "print(X_test)"
   ]
  },
  {
   "cell_type": "markdown",
   "metadata": {},
   "source": [
    "### LOGISTIC REGRESSION"
   ]
  },
  {
   "cell_type": "code",
   "execution_count": 40,
   "metadata": {},
   "outputs": [
    {
     "name": "stdout",
     "output_type": "stream",
     "text": [
      "Training model...\n",
      "...Done.\n",
      "Predictions on training set...\n",
      "...Done.\n",
      "[0 0 0 0 1]\n",
      "\n",
      "Predictions on test set...\n",
      "...Done.\n",
      "[1 0 1 0 0]\n",
      "\n",
      "f1-score on training set :  0.3\n",
      "f1-score on test set :  0.3034951763403448\n"
     ]
    }
   ],
   "source": [
    "# Train baseline model\n",
    "baseline_model = LogisticRegression(class_weight = 'balanced', max_iter = 1000) # change value of max_iter to avoid solver warning\n",
    "\n",
    "print(\"Training model...\")\n",
    "baseline_model.fit(X_train, Y_train) # Training is always done on train set!!\n",
    "print(\"...Done.\")\n",
    "\n",
    "# Predictions on training set\n",
    "print(\"Predictions on training set...\")\n",
    "Y_train_pred = baseline_model.predict(X_train)\n",
    "print(\"...Done.\")\n",
    "print(Y_train_pred[0:5])\n",
    "print()\n",
    "\n",
    "# Predictions on test set\n",
    "print(\"Predictions on test set...\")\n",
    "Y_test_pred = baseline_model.predict(X_test)\n",
    "print(\"...Done.\")\n",
    "print(Y_test_pred[0:5])\n",
    "print()\n",
    "\n",
    "# Print scores\n",
    "print(\"f1-score on training set : \", f1_score(Y_train, Y_train_pred))\n",
    "print(\"f1-score on test set : \", f1_score(Y_test, Y_test_pred))"
   ]
  },
  {
   "cell_type": "code",
   "execution_count": 42,
   "metadata": {},
   "outputs": [
    {
     "name": "stderr",
     "output_type": "stream",
     "text": [
      "/opt/conda/lib/python3.8/site-packages/sklearn/linear_model/_logistic.py:1320: UserWarning: Setting penalty='none' will ignore the C and l1_ratio parameters\n",
      "  warnings.warn(\n",
      "/opt/conda/lib/python3.8/site-packages/sklearn/linear_model/_logistic.py:1320: UserWarning: Setting penalty='none' will ignore the C and l1_ratio parameters\n",
      "  warnings.warn(\n",
      "/opt/conda/lib/python3.8/site-packages/sklearn/linear_model/_logistic.py:1320: UserWarning: Setting penalty='none' will ignore the C and l1_ratio parameters\n",
      "  warnings.warn(\n",
      "/opt/conda/lib/python3.8/site-packages/sklearn/linear_model/_logistic.py:1320: UserWarning: Setting penalty='none' will ignore the C and l1_ratio parameters\n",
      "  warnings.warn(\n",
      "/opt/conda/lib/python3.8/site-packages/sklearn/linear_model/_logistic.py:1320: UserWarning: Setting penalty='none' will ignore the C and l1_ratio parameters\n",
      "  warnings.warn(\n",
      "/opt/conda/lib/python3.8/site-packages/sklearn/linear_model/_logistic.py:1320: UserWarning: Setting penalty='none' will ignore the C and l1_ratio parameters\n",
      "  warnings.warn(\n",
      "/opt/conda/lib/python3.8/site-packages/sklearn/linear_model/_logistic.py:1320: UserWarning: Setting penalty='none' will ignore the C and l1_ratio parameters\n",
      "  warnings.warn(\n",
      "/opt/conda/lib/python3.8/site-packages/sklearn/linear_model/_logistic.py:1320: UserWarning: Setting penalty='none' will ignore the C and l1_ratio parameters\n",
      "  warnings.warn(\n",
      "/opt/conda/lib/python3.8/site-packages/sklearn/linear_model/_logistic.py:1320: UserWarning: Setting penalty='none' will ignore the C and l1_ratio parameters\n",
      "  warnings.warn(\n",
      "/opt/conda/lib/python3.8/site-packages/sklearn/linear_model/_logistic.py:1320: UserWarning: Setting penalty='none' will ignore the C and l1_ratio parameters\n",
      "  warnings.warn(\n",
      "/opt/conda/lib/python3.8/site-packages/sklearn/linear_model/_logistic.py:1320: UserWarning: Setting penalty='none' will ignore the C and l1_ratio parameters\n",
      "  warnings.warn(\n",
      "/opt/conda/lib/python3.8/site-packages/sklearn/linear_model/_logistic.py:1320: UserWarning: Setting penalty='none' will ignore the C and l1_ratio parameters\n",
      "  warnings.warn(\n",
      "/opt/conda/lib/python3.8/site-packages/sklearn/linear_model/_logistic.py:1320: UserWarning: Setting penalty='none' will ignore the C and l1_ratio parameters\n",
      "  warnings.warn(\n",
      "/opt/conda/lib/python3.8/site-packages/sklearn/linear_model/_logistic.py:1320: UserWarning: Setting penalty='none' will ignore the C and l1_ratio parameters\n",
      "  warnings.warn(\n",
      "/opt/conda/lib/python3.8/site-packages/sklearn/linear_model/_logistic.py:1320: UserWarning: Setting penalty='none' will ignore the C and l1_ratio parameters\n",
      "  warnings.warn(\n",
      "/opt/conda/lib/python3.8/site-packages/sklearn/linear_model/_logistic.py:1320: UserWarning: Setting penalty='none' will ignore the C and l1_ratio parameters\n",
      "  warnings.warn(\n",
      "/opt/conda/lib/python3.8/site-packages/sklearn/linear_model/_logistic.py:1320: UserWarning: Setting penalty='none' will ignore the C and l1_ratio parameters\n",
      "  warnings.warn(\n",
      "/opt/conda/lib/python3.8/site-packages/sklearn/linear_model/_logistic.py:1320: UserWarning: Setting penalty='none' will ignore the C and l1_ratio parameters\n",
      "  warnings.warn(\n",
      "/opt/conda/lib/python3.8/site-packages/sklearn/linear_model/_logistic.py:1320: UserWarning: Setting penalty='none' will ignore the C and l1_ratio parameters\n",
      "  warnings.warn(\n",
      "/opt/conda/lib/python3.8/site-packages/sklearn/linear_model/_logistic.py:1320: UserWarning: Setting penalty='none' will ignore the C and l1_ratio parameters\n",
      "  warnings.warn(\n",
      "/opt/conda/lib/python3.8/site-packages/sklearn/linear_model/_logistic.py:1320: UserWarning: Setting penalty='none' will ignore the C and l1_ratio parameters\n",
      "  warnings.warn(\n",
      "/opt/conda/lib/python3.8/site-packages/sklearn/linear_model/_logistic.py:1320: UserWarning: Setting penalty='none' will ignore the C and l1_ratio parameters\n",
      "  warnings.warn(\n",
      "/opt/conda/lib/python3.8/site-packages/sklearn/linear_model/_logistic.py:1320: UserWarning: Setting penalty='none' will ignore the C and l1_ratio parameters\n",
      "  warnings.warn(\n",
      "/opt/conda/lib/python3.8/site-packages/sklearn/linear_model/_logistic.py:1320: UserWarning: Setting penalty='none' will ignore the C and l1_ratio parameters\n",
      "  warnings.warn(\n",
      "/opt/conda/lib/python3.8/site-packages/sklearn/linear_model/_logistic.py:1320: UserWarning: Setting penalty='none' will ignore the C and l1_ratio parameters\n",
      "  warnings.warn(\n",
      "/opt/conda/lib/python3.8/site-packages/sklearn/linear_model/_logistic.py:1320: UserWarning: Setting penalty='none' will ignore the C and l1_ratio parameters\n",
      "  warnings.warn(\n",
      "/opt/conda/lib/python3.8/site-packages/sklearn/linear_model/_logistic.py:1320: UserWarning: Setting penalty='none' will ignore the C and l1_ratio parameters\n",
      "  warnings.warn(\n",
      "/opt/conda/lib/python3.8/site-packages/sklearn/linear_model/_logistic.py:1320: UserWarning: Setting penalty='none' will ignore the C and l1_ratio parameters\n",
      "  warnings.warn(\n",
      "/opt/conda/lib/python3.8/site-packages/sklearn/linear_model/_logistic.py:1320: UserWarning: Setting penalty='none' will ignore the C and l1_ratio parameters\n",
      "  warnings.warn(\n",
      "/opt/conda/lib/python3.8/site-packages/sklearn/linear_model/_logistic.py:1320: UserWarning: Setting penalty='none' will ignore the C and l1_ratio parameters\n",
      "  warnings.warn(\n",
      "/opt/conda/lib/python3.8/site-packages/sklearn/linear_model/_logistic.py:1320: UserWarning: Setting penalty='none' will ignore the C and l1_ratio parameters\n",
      "  warnings.warn(\n",
      "/opt/conda/lib/python3.8/site-packages/sklearn/linear_model/_logistic.py:1320: UserWarning: Setting penalty='none' will ignore the C and l1_ratio parameters\n",
      "  warnings.warn(\n",
      "/opt/conda/lib/python3.8/site-packages/sklearn/linear_model/_logistic.py:1320: UserWarning: Setting penalty='none' will ignore the C and l1_ratio parameters\n",
      "  warnings.warn(\n",
      "/opt/conda/lib/python3.8/site-packages/sklearn/linear_model/_logistic.py:1320: UserWarning: Setting penalty='none' will ignore the C and l1_ratio parameters\n",
      "  warnings.warn(\n",
      "/opt/conda/lib/python3.8/site-packages/sklearn/linear_model/_logistic.py:1320: UserWarning: Setting penalty='none' will ignore the C and l1_ratio parameters\n",
      "  warnings.warn(\n"
     ]
    },
    {
     "name": "stdout",
     "output_type": "stream",
     "text": [
      "Hyperparameters that give the best score :  {'C': 0.0001, 'penalty': 'l2'}\n",
      "Best score :  0.7148550241286602\n"
     ]
    }
   ],
   "source": [
    "# Declaring instance and training - determining the best parameters thanks to GridsearchCV\n",
    "\n",
    "params = {'C' : [10**i for i in range(-4,4)],\n",
    "          \"penalty\" : [\"none\", \"l2\"]}\n",
    "\n",
    "grid_logreg = GridSearchCV(LogisticRegression(class_weight = 'balanced', max_iter = 1000), param_grid = params, cv = 5)\n",
    "grid_logreg.fit(X_train, Y_train)\n",
    "\n",
    "print(\"Hyperparameters that give the best score : \", grid_logreg.best_params_)\n",
    "print(\"Best score : \", grid_logreg.best_score_)"
   ]
  },
  {
   "cell_type": "code",
   "execution_count": 43,
   "metadata": {},
   "outputs": [],
   "source": [
    "# Predicting\n",
    "\n",
    "Y_train_pred = grid_logreg.predict(X_train)\n",
    "Y_test_pred = grid_logreg.predict(X_test)"
   ]
  },
  {
   "cell_type": "code",
   "execution_count": 44,
   "metadata": {},
   "outputs": [
    {
     "name": "stdout",
     "output_type": "stream",
     "text": [
      "accuracy-score on train set :  0.30439269166177685\n",
      "accuracy-score on test set :  0.30647377353915783\n"
     ]
    }
   ],
   "source": [
    "# Computing accuracy score\n",
    "\n",
    "print(\"accuracy-score on train set : \", f1_score(Y_train, Y_train_pred))\n",
    "print(\"accuracy-score on test set : \", f1_score(Y_test, Y_test_pred))"
   ]
  },
  {
   "cell_type": "code",
   "execution_count": 45,
   "metadata": {},
   "outputs": [
    {
     "name": "stdout",
     "output_type": "stream",
     "text": [
      "              precision    recall  f1-score   support\n",
      "\n",
      "           0       0.95      0.72      0.82     27171\n",
      "           1       0.20      0.67      0.31      2816\n",
      "\n",
      "    accuracy                           0.71     29987\n",
      "   macro avg       0.58      0.70      0.56     29987\n",
      "weighted avg       0.88      0.71      0.77     29987\n",
      "\n"
     ]
    }
   ],
   "source": [
    "# Computing classification scores\n",
    "\n",
    "print(classification_report(Y_test, Y_test_pred))"
   ]
  },
  {
   "cell_type": "code",
   "execution_count": 46,
   "metadata": {},
   "outputs": [
    {
     "name": "stdout",
     "output_type": "stream",
     "text": [
      "confusion matric for Train set\n",
      "[[78045 30638]\n",
      " [ 3741  7522]]\n",
      "confusion matric for Test set\n",
      "[[19510  7661]\n",
      " [  920  1896]]\n"
     ]
    }
   ],
   "source": [
    "# Visualizing a confusion matrix\n",
    "\n",
    "print(\"confusion matric for Train set\")\n",
    "print(confusion_matrix(Y_train, Y_train_pred) )\n",
    "\n",
    "print(\"confusion matric for Test set\")\n",
    "print(confusion_matrix(Y_test, Y_test_pred))"
   ]
  },
  {
   "cell_type": "markdown",
   "metadata": {},
   "source": [
    "### CONCLUSION"
   ]
  },
  {
   "cell_type": "markdown",
   "metadata": {},
   "source": [
    "This model is not satisfying enough: thanks to the confusion matrix we can see that it doesn't manage to predict accurately enough if a purchase will be fradulent or not. It often predicts false fraud and often doesn't manage to detect true frauds."
   ]
  },
  {
   "cell_type": "code",
   "execution_count": null,
   "metadata": {},
   "outputs": [],
   "source": []
  }
 ],
 "metadata": {
  "kernelspec": {
   "display_name": "Python 3",
   "language": "python",
   "name": "python3"
  },
  "language_info": {
   "codemirror_mode": {
    "name": "ipython",
    "version": 3
   },
   "file_extension": ".py",
   "mimetype": "text/x-python",
   "name": "python",
   "nbconvert_exporter": "python",
   "pygments_lexer": "ipython3",
   "version": "3.8.6"
  }
 },
 "nbformat": 4,
 "nbformat_minor": 4
}
